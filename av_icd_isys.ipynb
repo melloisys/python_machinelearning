{
  "nbformat": 4,
  "nbformat_minor": 0,
  "metadata": {
    "colab": {
      "provenance": []
    },
    "kernelspec": {
      "name": "python3",
      "display_name": "Python 3"
    },
    "language_info": {
      "name": "python"
    }
  },
  "cells": [
    {
      "cell_type": "markdown",
      "source": [
        "### Questão 1:"
      ],
      "metadata": {
        "id": "2DDSBJnCb131"
      }
    },
    {
      "cell_type": "code",
      "source": [
        "import pandas as pd\n",
        "import numpy as np\n",
        "from sklearn.model_selection import train_test_split, GridSearchCV\n",
        "from sklearn.ensemble import RandomForestClassifier\n",
        "from sklearn.neighbors import KNeighborsClassifier\n",
        "\n",
        "# carrega os dados\n",
        "data = pd.read_csv('fruits.csv', sep=';').dropna()\n",
        "\n",
        "# separa os dados em features e target\n",
        "X = data.iloc[:, :-1].to_numpy()\n",
        "y = data.iloc[:, -1].to_numpy()\n",
        "\n",
        "# divide em conjuntos de treino e teste\n",
        "X_train, X_test, y_train, y_test = train_test_split(X, y, test_size=0.2, random_state=42)\n",
        "\n",
        "# define os parâmetros para o K-Vizinhos\n",
        "knn_params = {'n_neighbors': range(1, 11),\n",
        "              'metric': ['euclidean', 'manhattan', 'minkowski'],\n",
        "              'weights': ['uniform', 'distance']}\n",
        "\n",
        "# define os parâmetros para a Floresta Aleatória\n",
        "rf_params = {'n_estimators': [50, 100],\n",
        "             'max_features': ['sqrt', 'log2'],\n",
        "             'max_depth': [4, 6, 8],\n",
        "             'criterion': ['gini', 'entropy']}\n",
        "\n",
        "# define o classificador de K-Vizinhos\n",
        "knn = KNeighborsClassifier()\n",
        "\n",
        "# realiza a busca de parâmetros para o K-Vizinhos\n",
        "knn_search = GridSearchCV(knn, knn_params, cv=10)\n",
        "knn_search.fit(X_train, y_train)\n",
        "\n",
        "# exibe os melhores parâmetros encontrados para o K-Vizinhos\n",
        "print('Melhores parâmetros para o K-Vizinhos:')\n",
        "print(knn_search.best_params_)\n",
        "\n",
        "# define o classificador de Floresta Aleatória\n",
        "rf = RandomForestClassifier()\n",
        "\n",
        "# realiza a busca de parâmetros para a Floresta Aleatória\n",
        "rf_search = GridSearchCV(rf, rf_params, cv=10)\n",
        "rf_search.fit(X_train, y_train)\n",
        "\n",
        "# exibe os melhores parâmetros encontrados para a Floresta Aleatória\n",
        "print('Melhores parâmetros para a Floresta Aleatória:')\n",
        "print(rf_search.best_params_)\n",
        "\n",
        "# treina o modelo de K-Vizinhos com os melhores parâmetros encontrados\n",
        "knn_best = KNeighborsClassifier(**knn_search.best_params_)\n",
        "knn_best.fit(X_train, y_train)\n",
        "\n",
        "# calcula a acurácia do modelo de K-Vizinhos\n",
        "knn_acc = knn_best.score(X_test, y_test)\n",
        "print('Acurácia do K-Vizinhos: {:.2f}%'.format(knn_acc * 100))\n",
        "\n",
        "# treina o modelo de Floresta Aleatória com os melhores parâmetros encontrados\n",
        "rf_best = RandomForestClassifier(**rf_search.best_params_)\n",
        "rf_best.fit(X_train, y_train)\n",
        "\n",
        "# calcula a acurácia do modelo de Floresta Aleatória\n",
        "rf_acc = rf_best.score(X_test, y_test)\n",
        "print('Acurácia da Floresta Aleatória: {:.2f}%'.format(rf_acc * 100))\n"
      ],
      "metadata": {
        "colab": {
          "base_uri": "https://localhost:8080/"
        },
        "id": "v9GJeRTAavkW",
        "outputId": "bf36c3a0-4395-41aa-9023-201ff57969e1"
      },
      "execution_count": null,
      "outputs": [
        {
          "output_type": "stream",
          "name": "stdout",
          "text": [
            "Melhores parâmetros para o K-Vizinhos:\n",
            "{'metric': 'manhattan', 'n_neighbors': 10, 'weights': 'uniform'}\n",
            "Melhores parâmetros para a Floresta Aleatória:\n",
            "{'criterion': 'gini', 'max_depth': 8, 'max_features': 'log2', 'n_estimators': 50}\n",
            "Acurácia do K-Vizinhos: 92.50%\n",
            "Acurácia da Floresta Aleatória: 94.15%\n"
          ]
        }
      ]
    },
    {
      "cell_type": "markdown",
      "source": [
        "###Questão 2:"
      ],
      "metadata": {
        "id": "BTv6TavDb7S-"
      }
    },
    {
      "cell_type": "code",
      "source": [
        "import pandas as pd\n",
        "import numpy as np\n",
        "from sklearn.ensemble import RandomForestRegressor\n",
        "from sklearn.model_selection import train_test_split, GridSearchCV\n",
        "from sklearn.metrics import r2_score\n",
        "\n",
        "# leitura dos dados\n",
        "data = pd.read_csv('Advertising.csv', header=(0))\n",
        "data = data.dropna() # remove nan\n",
        "data = data.drop(data.columns[[0]], axis=1) # remove the first column\n",
        "# define a variável de saída\n",
        "ylabel = data.columns[-1]\n",
        "\n",
        "# separação dos dados em entrada (X) e saída (y)\n",
        "X = data.drop(ylabel, axis=1)\n",
        "y = data[ylabel]\n",
        "\n",
        "# separação dos dados em treino e teste\n",
        "X_train, X_test, y_train, y_test = train_test_split(X, y, test_size=0.2, random_state=42)\n",
        "\n",
        "# definição dos hiperparâmetros para o grid search\n",
        "rf_param_grid = {\n",
        "    'max_depth': [5, 10, 20], # Maximum number of levels in each decision tree\n",
        "    'max_features': ['sqrt', 'log2'], # Maximum number of features considered for splitting a node\n",
        "    'min_samples_leaf': [1, 3, 4, 5], # Minimum number of data points allowed in a leaf node\n",
        "    'n_estimators': [10, 50, 100] # Number of trees in the forest\n",
        "}\n",
        "\n",
        "# definição do modelo de regressão de florestas aleatórias\n",
        "rf = RandomForestRegressor()\n",
        "\n",
        "# definição do grid search com validação cruzada\n",
        "grid_search_rf = GridSearchCV(rf, param_grid=rf_param_grid, cv=10, n_jobs=-1)\n",
        "\n",
        "# ajuste do modelo aos dados de treinamento\n",
        "grid_search_rf.fit(X_train, y_train)\n",
        "\n",
        "# predição com os dados de teste\n",
        "y_pred = grid_search_rf.predict(X_test)\n",
        "\n",
        "# cálculo do coeficiente R2\n",
        "r2 = r2_score(y_test, y_pred)\n",
        "print(\"Coeficiente R2:\", r2)\n"
      ],
      "metadata": {
        "colab": {
          "base_uri": "https://localhost:8080/"
        },
        "id": "AMgadFDja629",
        "outputId": "370c6f50-5438-4894-d112-ec665a453827"
      },
      "execution_count": null,
      "outputs": [
        {
          "output_type": "stream",
          "name": "stdout",
          "text": [
            "Coeficiente R2: 0.9254745307518176\n"
          ]
        }
      ]
    }
  ]
}